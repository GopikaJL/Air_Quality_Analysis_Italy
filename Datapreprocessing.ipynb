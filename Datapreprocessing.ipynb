{
  "nbformat": 4,
  "nbformat_minor": 0,
  "metadata": {
    "colab": {
      "provenance": []
    },
    "kernelspec": {
      "name": "python3",
      "display_name": "Python 3"
    }
  },
  "cells": [
    {
      "cell_type": "markdown",
      "metadata": {
        "id": "LPKBZQ_iy_pe"
      },
      "source": [
        "# Lesson 38: Air Quality Analysis - Time Series Data"
      ]
    },
    {
      "cell_type": "code",
      "metadata": {
        "id": "ep3fwC37ynVH",
        "colab": {
          "base_uri": "https://localhost:8080/",
          "height": 241
        },
        "outputId": "a826cff6-6103-4c09-f6d2-5e84972ec1ad"
      },
      "source": [
        "# Import the required modules and load the time-series dataset on air quality. Also, display the first five rows.\n",
        "import numpy as np\n",
        "import pandas as pd\n",
        "import matplotlib.pyplot as plt\n",
        "import seaborn as sns\n",
        "\n",
        "csv_file = 'https://s3-student-datasets-bucket.whjr.online/whitehat-ds-datasets/air-quality/AirQualityUCI.csv'\n",
        "df = pd.read_csv(csv_file, sep=';')\n",
        "df.head()"
      ],
      "execution_count": null,
      "outputs": [
        {
          "output_type": "execute_result",
          "data": {
            "text/html": [
              "<div>\n",
              "<style scoped>\n",
              "    .dataframe tbody tr th:only-of-type {\n",
              "        vertical-align: middle;\n",
              "    }\n",
              "\n",
              "    .dataframe tbody tr th {\n",
              "        vertical-align: top;\n",
              "    }\n",
              "\n",
              "    .dataframe thead th {\n",
              "        text-align: right;\n",
              "    }\n",
              "</style>\n",
              "<table border=\"1\" class=\"dataframe\">\n",
              "  <thead>\n",
              "    <tr style=\"text-align: right;\">\n",
              "      <th></th>\n",
              "      <th>Date</th>\n",
              "      <th>Time</th>\n",
              "      <th>CO(GT)</th>\n",
              "      <th>PT08.S1(CO)</th>\n",
              "      <th>NMHC(GT)</th>\n",
              "      <th>C6H6(GT)</th>\n",
              "      <th>PT08.S2(NMHC)</th>\n",
              "      <th>NOx(GT)</th>\n",
              "      <th>PT08.S3(NOx)</th>\n",
              "      <th>NO2(GT)</th>\n",
              "      <th>PT08.S4(NO2)</th>\n",
              "      <th>PT08.S5(O3)</th>\n",
              "      <th>T</th>\n",
              "      <th>RH</th>\n",
              "      <th>AH</th>\n",
              "      <th>Unnamed: 15</th>\n",
              "      <th>Unnamed: 16</th>\n",
              "    </tr>\n",
              "  </thead>\n",
              "  <tbody>\n",
              "    <tr>\n",
              "      <th>0</th>\n",
              "      <td>10/03/2004</td>\n",
              "      <td>18.00.00</td>\n",
              "      <td>2,6</td>\n",
              "      <td>1360.0</td>\n",
              "      <td>150.0</td>\n",
              "      <td>11,9</td>\n",
              "      <td>1046.0</td>\n",
              "      <td>166.0</td>\n",
              "      <td>1056.0</td>\n",
              "      <td>113.0</td>\n",
              "      <td>1692.0</td>\n",
              "      <td>1268.0</td>\n",
              "      <td>13,6</td>\n",
              "      <td>48,9</td>\n",
              "      <td>0,7578</td>\n",
              "      <td>NaN</td>\n",
              "      <td>NaN</td>\n",
              "    </tr>\n",
              "    <tr>\n",
              "      <th>1</th>\n",
              "      <td>10/03/2004</td>\n",
              "      <td>19.00.00</td>\n",
              "      <td>2</td>\n",
              "      <td>1292.0</td>\n",
              "      <td>112.0</td>\n",
              "      <td>9,4</td>\n",
              "      <td>955.0</td>\n",
              "      <td>103.0</td>\n",
              "      <td>1174.0</td>\n",
              "      <td>92.0</td>\n",
              "      <td>1559.0</td>\n",
              "      <td>972.0</td>\n",
              "      <td>13,3</td>\n",
              "      <td>47,7</td>\n",
              "      <td>0,7255</td>\n",
              "      <td>NaN</td>\n",
              "      <td>NaN</td>\n",
              "    </tr>\n",
              "    <tr>\n",
              "      <th>2</th>\n",
              "      <td>10/03/2004</td>\n",
              "      <td>20.00.00</td>\n",
              "      <td>2,2</td>\n",
              "      <td>1402.0</td>\n",
              "      <td>88.0</td>\n",
              "      <td>9,0</td>\n",
              "      <td>939.0</td>\n",
              "      <td>131.0</td>\n",
              "      <td>1140.0</td>\n",
              "      <td>114.0</td>\n",
              "      <td>1555.0</td>\n",
              "      <td>1074.0</td>\n",
              "      <td>11,9</td>\n",
              "      <td>54,0</td>\n",
              "      <td>0,7502</td>\n",
              "      <td>NaN</td>\n",
              "      <td>NaN</td>\n",
              "    </tr>\n",
              "    <tr>\n",
              "      <th>3</th>\n",
              "      <td>10/03/2004</td>\n",
              "      <td>21.00.00</td>\n",
              "      <td>2,2</td>\n",
              "      <td>1376.0</td>\n",
              "      <td>80.0</td>\n",
              "      <td>9,2</td>\n",
              "      <td>948.0</td>\n",
              "      <td>172.0</td>\n",
              "      <td>1092.0</td>\n",
              "      <td>122.0</td>\n",
              "      <td>1584.0</td>\n",
              "      <td>1203.0</td>\n",
              "      <td>11,0</td>\n",
              "      <td>60,0</td>\n",
              "      <td>0,7867</td>\n",
              "      <td>NaN</td>\n",
              "      <td>NaN</td>\n",
              "    </tr>\n",
              "    <tr>\n",
              "      <th>4</th>\n",
              "      <td>10/03/2004</td>\n",
              "      <td>22.00.00</td>\n",
              "      <td>1,6</td>\n",
              "      <td>1272.0</td>\n",
              "      <td>51.0</td>\n",
              "      <td>6,5</td>\n",
              "      <td>836.0</td>\n",
              "      <td>131.0</td>\n",
              "      <td>1205.0</td>\n",
              "      <td>116.0</td>\n",
              "      <td>1490.0</td>\n",
              "      <td>1110.0</td>\n",
              "      <td>11,2</td>\n",
              "      <td>59,6</td>\n",
              "      <td>0,7888</td>\n",
              "      <td>NaN</td>\n",
              "      <td>NaN</td>\n",
              "    </tr>\n",
              "  </tbody>\n",
              "</table>\n",
              "</div>"
            ],
            "text/plain": [
              "         Date      Time CO(GT)  ...      AH  Unnamed: 15 Unnamed: 16\n",
              "0  10/03/2004  18.00.00    2,6  ...  0,7578          NaN         NaN\n",
              "1  10/03/2004  19.00.00      2  ...  0,7255          NaN         NaN\n",
              "2  10/03/2004  20.00.00    2,2  ...  0,7502          NaN         NaN\n",
              "3  10/03/2004  21.00.00    2,2  ...  0,7867          NaN         NaN\n",
              "4  10/03/2004  22.00.00    1,6  ...  0,7888          NaN         NaN\n",
              "\n",
              "[5 rows x 17 columns]"
            ]
          },
          "metadata": {
            "tags": []
          },
          "execution_count": 1
        }
      ]
    },
    {
      "cell_type": "code",
      "metadata": {
        "id": "Dlgay0wIyhHj",
        "colab": {
          "base_uri": "https://localhost:8080/"
        },
        "outputId": "9274b89b-59d0-47b0-d3f6-8aef4530d36b"
      },
      "source": [
        "# S1.2: Apply the 'info()' function on the 'df' DataFrame.\n",
        "df.info()"
      ],
      "execution_count": null,
      "outputs": [
        {
          "output_type": "stream",
          "text": [
            "<class 'pandas.core.frame.DataFrame'>\n",
            "RangeIndex: 9471 entries, 0 to 9470\n",
            "Data columns (total 17 columns):\n",
            " #   Column         Non-Null Count  Dtype  \n",
            "---  ------         --------------  -----  \n",
            " 0   Date           9357 non-null   object \n",
            " 1   Time           9357 non-null   object \n",
            " 2   CO(GT)         9357 non-null   object \n",
            " 3   PT08.S1(CO)    9357 non-null   float64\n",
            " 4   NMHC(GT)       9357 non-null   float64\n",
            " 5   C6H6(GT)       9357 non-null   object \n",
            " 6   PT08.S2(NMHC)  9357 non-null   float64\n",
            " 7   NOx(GT)        9357 non-null   float64\n",
            " 8   PT08.S3(NOx)   9357 non-null   float64\n",
            " 9   NO2(GT)        9357 non-null   float64\n",
            " 10  PT08.S4(NO2)   9357 non-null   float64\n",
            " 11  PT08.S5(O3)    9357 non-null   float64\n",
            " 12  T              9357 non-null   object \n",
            " 13  RH             9357 non-null   object \n",
            " 14  AH             9357 non-null   object \n",
            " 15  Unnamed: 15    0 non-null      float64\n",
            " 16  Unnamed: 16    0 non-null      float64\n",
            "dtypes: float64(10), object(7)\n",
            "memory usage: 1.2+ MB\n"
          ],
          "name": "stdout"
        }
      ]
    },
    {
      "cell_type": "code",
      "metadata": {
        "id": "IJh8J1J0yaMy",
        "colab": {
          "base_uri": "https://localhost:8080/"
        },
        "outputId": "14278639-b5cf-4b70-8cb7-d466e680cac8"
      },
      "source": [
        "#  Check for the missing values in the 'df' DataFrame.\n",
        "df.isnull().sum()"
      ],
      "execution_count": null,
      "outputs": [
        {
          "output_type": "execute_result",
          "data": {
            "text/plain": [
              "Date              114\n",
              "Time              114\n",
              "CO(GT)            114\n",
              "PT08.S1(CO)       114\n",
              "NMHC(GT)          114\n",
              "C6H6(GT)          114\n",
              "PT08.S2(NMHC)     114\n",
              "NOx(GT)           114\n",
              "PT08.S3(NOx)      114\n",
              "NO2(GT)           114\n",
              "PT08.S4(NO2)      114\n",
              "PT08.S5(O3)       114\n",
              "T                 114\n",
              "RH                114\n",
              "AH                114\n",
              "Unnamed: 15      9471\n",
              "Unnamed: 16      9471\n",
              "dtype: int64"
            ]
          },
          "metadata": {
            "tags": []
          },
          "execution_count": 3
        }
      ]
    },
    {
      "cell_type": "code",
      "metadata": {
        "id": "jf0-NW9NyVRK"
      },
      "source": [
        "#  Drop the 'Unnamed: 15 and Unnamed: 16' columns from the 'df' DataFrame.\n",
        "df = df.drop(columns=['Unnamed: 15', 'Unnamed: 16'], axis=1)"
      ],
      "execution_count": null,
      "outputs": []
    },
    {
      "cell_type": "code",
      "metadata": {
        "id": "pRXlHKYpyPuR",
        "colab": {
          "base_uri": "https://localhost:8080/"
        },
        "outputId": "39481216-b5db-42fd-d235-6234c31f1ed0"
      },
      "source": [
        "#  Get the list of columns present in the 'df' DataFrame after removing the 'Unnamed: 15 and Unnamed: 16' columns.\n",
        "df.columns"
      ],
      "execution_count": null,
      "outputs": [
        {
          "output_type": "execute_result",
          "data": {
            "text/plain": [
              "Index(['Date', 'Time', 'CO(GT)', 'PT08.S1(CO)', 'NMHC(GT)', 'C6H6(GT)',\n",
              "       'PT08.S2(NMHC)', 'NOx(GT)', 'PT08.S3(NOx)', 'NO2(GT)', 'PT08.S4(NO2)',\n",
              "       'PT08.S5(O3)', 'T', 'RH', 'AH'],\n",
              "      dtype='object')"
            ]
          },
          "metadata": {
            "tags": []
          },
          "execution_count": 5
        }
      ]
    },
    {
      "cell_type": "code",
      "metadata": {
        "id": "MusBItt2yGvX",
        "colab": {
          "base_uri": "https://localhost:8080/",
          "height": 419
        },
        "outputId": "946c49bc-2aeb-4e92-b2b1-3ca488982435"
      },
      "source": [
        "#  Print the rows missing in the 'Date' column.\n",
        "df[df['Date'].isnull() == True]"
      ],
      "execution_count": null,
      "outputs": [
        {
          "output_type": "execute_result",
          "data": {
            "text/html": [
              "<div>\n",
              "<style scoped>\n",
              "    .dataframe tbody tr th:only-of-type {\n",
              "        vertical-align: middle;\n",
              "    }\n",
              "\n",
              "    .dataframe tbody tr th {\n",
              "        vertical-align: top;\n",
              "    }\n",
              "\n",
              "    .dataframe thead th {\n",
              "        text-align: right;\n",
              "    }\n",
              "</style>\n",
              "<table border=\"1\" class=\"dataframe\">\n",
              "  <thead>\n",
              "    <tr style=\"text-align: right;\">\n",
              "      <th></th>\n",
              "      <th>Date</th>\n",
              "      <th>Time</th>\n",
              "      <th>CO(GT)</th>\n",
              "      <th>PT08.S1(CO)</th>\n",
              "      <th>NMHC(GT)</th>\n",
              "      <th>C6H6(GT)</th>\n",
              "      <th>PT08.S2(NMHC)</th>\n",
              "      <th>NOx(GT)</th>\n",
              "      <th>PT08.S3(NOx)</th>\n",
              "      <th>NO2(GT)</th>\n",
              "      <th>PT08.S4(NO2)</th>\n",
              "      <th>PT08.S5(O3)</th>\n",
              "      <th>T</th>\n",
              "      <th>RH</th>\n",
              "      <th>AH</th>\n",
              "    </tr>\n",
              "  </thead>\n",
              "  <tbody>\n",
              "    <tr>\n",
              "      <th>9357</th>\n",
              "      <td>NaN</td>\n",
              "      <td>NaN</td>\n",
              "      <td>NaN</td>\n",
              "      <td>NaN</td>\n",
              "      <td>NaN</td>\n",
              "      <td>NaN</td>\n",
              "      <td>NaN</td>\n",
              "      <td>NaN</td>\n",
              "      <td>NaN</td>\n",
              "      <td>NaN</td>\n",
              "      <td>NaN</td>\n",
              "      <td>NaN</td>\n",
              "      <td>NaN</td>\n",
              "      <td>NaN</td>\n",
              "      <td>NaN</td>\n",
              "    </tr>\n",
              "    <tr>\n",
              "      <th>9358</th>\n",
              "      <td>NaN</td>\n",
              "      <td>NaN</td>\n",
              "      <td>NaN</td>\n",
              "      <td>NaN</td>\n",
              "      <td>NaN</td>\n",
              "      <td>NaN</td>\n",
              "      <td>NaN</td>\n",
              "      <td>NaN</td>\n",
              "      <td>NaN</td>\n",
              "      <td>NaN</td>\n",
              "      <td>NaN</td>\n",
              "      <td>NaN</td>\n",
              "      <td>NaN</td>\n",
              "      <td>NaN</td>\n",
              "      <td>NaN</td>\n",
              "    </tr>\n",
              "    <tr>\n",
              "      <th>9359</th>\n",
              "      <td>NaN</td>\n",
              "      <td>NaN</td>\n",
              "      <td>NaN</td>\n",
              "      <td>NaN</td>\n",
              "      <td>NaN</td>\n",
              "      <td>NaN</td>\n",
              "      <td>NaN</td>\n",
              "      <td>NaN</td>\n",
              "      <td>NaN</td>\n",
              "      <td>NaN</td>\n",
              "      <td>NaN</td>\n",
              "      <td>NaN</td>\n",
              "      <td>NaN</td>\n",
              "      <td>NaN</td>\n",
              "      <td>NaN</td>\n",
              "    </tr>\n",
              "    <tr>\n",
              "      <th>9360</th>\n",
              "      <td>NaN</td>\n",
              "      <td>NaN</td>\n",
              "      <td>NaN</td>\n",
              "      <td>NaN</td>\n",
              "      <td>NaN</td>\n",
              "      <td>NaN</td>\n",
              "      <td>NaN</td>\n",
              "      <td>NaN</td>\n",
              "      <td>NaN</td>\n",
              "      <td>NaN</td>\n",
              "      <td>NaN</td>\n",
              "      <td>NaN</td>\n",
              "      <td>NaN</td>\n",
              "      <td>NaN</td>\n",
              "      <td>NaN</td>\n",
              "    </tr>\n",
              "    <tr>\n",
              "      <th>9361</th>\n",
              "      <td>NaN</td>\n",
              "      <td>NaN</td>\n",
              "      <td>NaN</td>\n",
              "      <td>NaN</td>\n",
              "      <td>NaN</td>\n",
              "      <td>NaN</td>\n",
              "      <td>NaN</td>\n",
              "      <td>NaN</td>\n",
              "      <td>NaN</td>\n",
              "      <td>NaN</td>\n",
              "      <td>NaN</td>\n",
              "      <td>NaN</td>\n",
              "      <td>NaN</td>\n",
              "      <td>NaN</td>\n",
              "      <td>NaN</td>\n",
              "    </tr>\n",
              "    <tr>\n",
              "      <th>...</th>\n",
              "      <td>...</td>\n",
              "      <td>...</td>\n",
              "      <td>...</td>\n",
              "      <td>...</td>\n",
              "      <td>...</td>\n",
              "      <td>...</td>\n",
              "      <td>...</td>\n",
              "      <td>...</td>\n",
              "      <td>...</td>\n",
              "      <td>...</td>\n",
              "      <td>...</td>\n",
              "      <td>...</td>\n",
              "      <td>...</td>\n",
              "      <td>...</td>\n",
              "      <td>...</td>\n",
              "    </tr>\n",
              "    <tr>\n",
              "      <th>9466</th>\n",
              "      <td>NaN</td>\n",
              "      <td>NaN</td>\n",
              "      <td>NaN</td>\n",
              "      <td>NaN</td>\n",
              "      <td>NaN</td>\n",
              "      <td>NaN</td>\n",
              "      <td>NaN</td>\n",
              "      <td>NaN</td>\n",
              "      <td>NaN</td>\n",
              "      <td>NaN</td>\n",
              "      <td>NaN</td>\n",
              "      <td>NaN</td>\n",
              "      <td>NaN</td>\n",
              "      <td>NaN</td>\n",
              "      <td>NaN</td>\n",
              "    </tr>\n",
              "    <tr>\n",
              "      <th>9467</th>\n",
              "      <td>NaN</td>\n",
              "      <td>NaN</td>\n",
              "      <td>NaN</td>\n",
              "      <td>NaN</td>\n",
              "      <td>NaN</td>\n",
              "      <td>NaN</td>\n",
              "      <td>NaN</td>\n",
              "      <td>NaN</td>\n",
              "      <td>NaN</td>\n",
              "      <td>NaN</td>\n",
              "      <td>NaN</td>\n",
              "      <td>NaN</td>\n",
              "      <td>NaN</td>\n",
              "      <td>NaN</td>\n",
              "      <td>NaN</td>\n",
              "    </tr>\n",
              "    <tr>\n",
              "      <th>9468</th>\n",
              "      <td>NaN</td>\n",
              "      <td>NaN</td>\n",
              "      <td>NaN</td>\n",
              "      <td>NaN</td>\n",
              "      <td>NaN</td>\n",
              "      <td>NaN</td>\n",
              "      <td>NaN</td>\n",
              "      <td>NaN</td>\n",
              "      <td>NaN</td>\n",
              "      <td>NaN</td>\n",
              "      <td>NaN</td>\n",
              "      <td>NaN</td>\n",
              "      <td>NaN</td>\n",
              "      <td>NaN</td>\n",
              "      <td>NaN</td>\n",
              "    </tr>\n",
              "    <tr>\n",
              "      <th>9469</th>\n",
              "      <td>NaN</td>\n",
              "      <td>NaN</td>\n",
              "      <td>NaN</td>\n",
              "      <td>NaN</td>\n",
              "      <td>NaN</td>\n",
              "      <td>NaN</td>\n",
              "      <td>NaN</td>\n",
              "      <td>NaN</td>\n",
              "      <td>NaN</td>\n",
              "      <td>NaN</td>\n",
              "      <td>NaN</td>\n",
              "      <td>NaN</td>\n",
              "      <td>NaN</td>\n",
              "      <td>NaN</td>\n",
              "      <td>NaN</td>\n",
              "    </tr>\n",
              "    <tr>\n",
              "      <th>9470</th>\n",
              "      <td>NaN</td>\n",
              "      <td>NaN</td>\n",
              "      <td>NaN</td>\n",
              "      <td>NaN</td>\n",
              "      <td>NaN</td>\n",
              "      <td>NaN</td>\n",
              "      <td>NaN</td>\n",
              "      <td>NaN</td>\n",
              "      <td>NaN</td>\n",
              "      <td>NaN</td>\n",
              "      <td>NaN</td>\n",
              "      <td>NaN</td>\n",
              "      <td>NaN</td>\n",
              "      <td>NaN</td>\n",
              "      <td>NaN</td>\n",
              "    </tr>\n",
              "  </tbody>\n",
              "</table>\n",
              "<p>114 rows × 15 columns</p>\n",
              "</div>"
            ],
            "text/plain": [
              "     Date Time CO(GT)  PT08.S1(CO)  ...  PT08.S5(O3)    T   RH   AH\n",
              "9357  NaN  NaN    NaN          NaN  ...          NaN  NaN  NaN  NaN\n",
              "9358  NaN  NaN    NaN          NaN  ...          NaN  NaN  NaN  NaN\n",
              "9359  NaN  NaN    NaN          NaN  ...          NaN  NaN  NaN  NaN\n",
              "9360  NaN  NaN    NaN          NaN  ...          NaN  NaN  NaN  NaN\n",
              "9361  NaN  NaN    NaN          NaN  ...          NaN  NaN  NaN  NaN\n",
              "...   ...  ...    ...          ...  ...          ...  ...  ...  ...\n",
              "9466  NaN  NaN    NaN          NaN  ...          NaN  NaN  NaN  NaN\n",
              "9467  NaN  NaN    NaN          NaN  ...          NaN  NaN  NaN  NaN\n",
              "9468  NaN  NaN    NaN          NaN  ...          NaN  NaN  NaN  NaN\n",
              "9469  NaN  NaN    NaN          NaN  ...          NaN  NaN  NaN  NaN\n",
              "9470  NaN  NaN    NaN          NaN  ...          NaN  NaN  NaN  NaN\n",
              "\n",
              "[114 rows x 15 columns]"
            ]
          },
          "metadata": {
            "tags": []
          },
          "execution_count": 6
        }
      ]
    },
    {
      "cell_type": "code",
      "metadata": {
        "id": "YXmNAlUZx_Vt"
      },
      "source": [
        "#  Drop the rows containing at least one null value in the 'df' DataFrame using the 'dropna()' function.\n",
        "df = df.dropna()"
      ],
      "execution_count": null,
      "outputs": []
    },
    {
      "cell_type": "code",
      "metadata": {
        "id": "hNAm8A3Px5Kb",
        "colab": {
          "base_uri": "https://localhost:8080/"
        },
        "outputId": "b531a52d-b152-4861-98ca-3e8004395fc6"
      },
      "source": [
        "#  Check whether all the missing values are removed or not.\n",
        "df.isnull().sum()"
      ],
      "execution_count": null,
      "outputs": [
        {
          "output_type": "execute_result",
          "data": {
            "text/plain": [
              "Date             0\n",
              "Time             0\n",
              "CO(GT)           0\n",
              "PT08.S1(CO)      0\n",
              "NMHC(GT)         0\n",
              "C6H6(GT)         0\n",
              "PT08.S2(NMHC)    0\n",
              "NOx(GT)          0\n",
              "PT08.S3(NOx)     0\n",
              "NO2(GT)          0\n",
              "PT08.S4(NO2)     0\n",
              "PT08.S5(O3)      0\n",
              "T                0\n",
              "RH               0\n",
              "AH               0\n",
              "dtype: int64"
            ]
          },
          "metadata": {
            "tags": []
          },
          "execution_count": 8
        }
      ]
    },
    {
      "cell_type": "code",
      "metadata": {
        "id": "J0OC810qx11D",
        "colab": {
          "base_uri": "https://localhost:8080/"
        },
        "outputId": "1dd0617a-e615-4049-ed16-3f015a87178a"
      },
      "source": [
        "# How many rows and columns are in the DataFrame after removing the rows and columns containing the missing values?\n",
        "df.shape"
      ],
      "execution_count": null,
      "outputs": [
        {
          "output_type": "execute_result",
          "data": {
            "text/plain": [
              "(9357, 15)"
            ]
          },
          "metadata": {
            "tags": []
          },
          "execution_count": 9
        }
      ]
    },
    {
      "cell_type": "code",
      "metadata": {
        "id": "VYFdJCfxxvsf",
        "colab": {
          "base_uri": "https://localhost:8080/",
          "height": 204
        },
        "outputId": "a9771c78-8094-45c3-a4ac-84963d19f82a"
      },
      "source": [
        "#  Print the last 5 rows of the 'df' DataFrame.\n",
        "df.tail()"
      ],
      "execution_count": null,
      "outputs": [
        {
          "output_type": "execute_result",
          "data": {
            "text/html": [
              "<div>\n",
              "<style scoped>\n",
              "    .dataframe tbody tr th:only-of-type {\n",
              "        vertical-align: middle;\n",
              "    }\n",
              "\n",
              "    .dataframe tbody tr th {\n",
              "        vertical-align: top;\n",
              "    }\n",
              "\n",
              "    .dataframe thead th {\n",
              "        text-align: right;\n",
              "    }\n",
              "</style>\n",
              "<table border=\"1\" class=\"dataframe\">\n",
              "  <thead>\n",
              "    <tr style=\"text-align: right;\">\n",
              "      <th></th>\n",
              "      <th>Date</th>\n",
              "      <th>Time</th>\n",
              "      <th>CO(GT)</th>\n",
              "      <th>PT08.S1(CO)</th>\n",
              "      <th>NMHC(GT)</th>\n",
              "      <th>C6H6(GT)</th>\n",
              "      <th>PT08.S2(NMHC)</th>\n",
              "      <th>NOx(GT)</th>\n",
              "      <th>PT08.S3(NOx)</th>\n",
              "      <th>NO2(GT)</th>\n",
              "      <th>PT08.S4(NO2)</th>\n",
              "      <th>PT08.S5(O3)</th>\n",
              "      <th>T</th>\n",
              "      <th>RH</th>\n",
              "      <th>AH</th>\n",
              "    </tr>\n",
              "  </thead>\n",
              "  <tbody>\n",
              "    <tr>\n",
              "      <th>9352</th>\n",
              "      <td>04/04/2005</td>\n",
              "      <td>10.00.00</td>\n",
              "      <td>3,1</td>\n",
              "      <td>1314.0</td>\n",
              "      <td>-200.0</td>\n",
              "      <td>13,5</td>\n",
              "      <td>1101.0</td>\n",
              "      <td>472.0</td>\n",
              "      <td>539.0</td>\n",
              "      <td>190.0</td>\n",
              "      <td>1374.0</td>\n",
              "      <td>1729.0</td>\n",
              "      <td>21,9</td>\n",
              "      <td>29,3</td>\n",
              "      <td>0,7568</td>\n",
              "    </tr>\n",
              "    <tr>\n",
              "      <th>9353</th>\n",
              "      <td>04/04/2005</td>\n",
              "      <td>11.00.00</td>\n",
              "      <td>2,4</td>\n",
              "      <td>1163.0</td>\n",
              "      <td>-200.0</td>\n",
              "      <td>11,4</td>\n",
              "      <td>1027.0</td>\n",
              "      <td>353.0</td>\n",
              "      <td>604.0</td>\n",
              "      <td>179.0</td>\n",
              "      <td>1264.0</td>\n",
              "      <td>1269.0</td>\n",
              "      <td>24,3</td>\n",
              "      <td>23,7</td>\n",
              "      <td>0,7119</td>\n",
              "    </tr>\n",
              "    <tr>\n",
              "      <th>9354</th>\n",
              "      <td>04/04/2005</td>\n",
              "      <td>12.00.00</td>\n",
              "      <td>2,4</td>\n",
              "      <td>1142.0</td>\n",
              "      <td>-200.0</td>\n",
              "      <td>12,4</td>\n",
              "      <td>1063.0</td>\n",
              "      <td>293.0</td>\n",
              "      <td>603.0</td>\n",
              "      <td>175.0</td>\n",
              "      <td>1241.0</td>\n",
              "      <td>1092.0</td>\n",
              "      <td>26,9</td>\n",
              "      <td>18,3</td>\n",
              "      <td>0,6406</td>\n",
              "    </tr>\n",
              "    <tr>\n",
              "      <th>9355</th>\n",
              "      <td>04/04/2005</td>\n",
              "      <td>13.00.00</td>\n",
              "      <td>2,1</td>\n",
              "      <td>1003.0</td>\n",
              "      <td>-200.0</td>\n",
              "      <td>9,5</td>\n",
              "      <td>961.0</td>\n",
              "      <td>235.0</td>\n",
              "      <td>702.0</td>\n",
              "      <td>156.0</td>\n",
              "      <td>1041.0</td>\n",
              "      <td>770.0</td>\n",
              "      <td>28,3</td>\n",
              "      <td>13,5</td>\n",
              "      <td>0,5139</td>\n",
              "    </tr>\n",
              "    <tr>\n",
              "      <th>9356</th>\n",
              "      <td>04/04/2005</td>\n",
              "      <td>14.00.00</td>\n",
              "      <td>2,2</td>\n",
              "      <td>1071.0</td>\n",
              "      <td>-200.0</td>\n",
              "      <td>11,9</td>\n",
              "      <td>1047.0</td>\n",
              "      <td>265.0</td>\n",
              "      <td>654.0</td>\n",
              "      <td>168.0</td>\n",
              "      <td>1129.0</td>\n",
              "      <td>816.0</td>\n",
              "      <td>28,5</td>\n",
              "      <td>13,1</td>\n",
              "      <td>0,5028</td>\n",
              "    </tr>\n",
              "  </tbody>\n",
              "</table>\n",
              "</div>"
            ],
            "text/plain": [
              "            Date      Time CO(GT)  PT08.S1(CO)  ...  PT08.S5(O3)     T    RH      AH\n",
              "9352  04/04/2005  10.00.00    3,1       1314.0  ...       1729.0  21,9  29,3  0,7568\n",
              "9353  04/04/2005  11.00.00    2,4       1163.0  ...       1269.0  24,3  23,7  0,7119\n",
              "9354  04/04/2005  12.00.00    2,4       1142.0  ...       1092.0  26,9  18,3  0,6406\n",
              "9355  04/04/2005  13.00.00    2,1       1003.0  ...        770.0  28,3  13,5  0,5139\n",
              "9356  04/04/2005  14.00.00    2,2       1071.0  ...        816.0  28,5  13,1  0,5028\n",
              "\n",
              "[5 rows x 15 columns]"
            ]
          },
          "metadata": {
            "tags": []
          },
          "execution_count": 10
        }
      ]
    },
    {
      "cell_type": "markdown",
      "metadata": {
        "id": "2VfyRPcRxwKh"
      },
      "source": [
        "---"
      ]
    },
    {
      "cell_type": "code",
      "metadata": {
        "id": "3dQULfeKxnQI",
        "colab": {
          "base_uri": "https://localhost:8080/"
        },
        "outputId": "0800611c-5877-4357-bd68-1d7a3900326b"
      },
      "source": [
        "#  Concatenate the values stored in the 'Date' and 'Time' columns and store them into a new Pandas series.\n",
        "dt_series = pd.Series(data = [item.split(\"/\")[2] + \"-\" + item.split(\"/\")[1] + \"-\" + item.split(\"/\")[0] for item in df['Date']], index=df.index) + ' ' + pd.Series(data=[str(item).replace(\".\", \":\") for item in df['Time']], index=df.index)\n",
        "dt_series = pd.to_datetime(dt_series)\n",
        "dt_series"
      ],
      "execution_count": null,
      "outputs": [
        {
          "output_type": "execute_result",
          "data": {
            "text/plain": [
              "0      2004-03-10 18:00:00\n",
              "1      2004-03-10 19:00:00\n",
              "2      2004-03-10 20:00:00\n",
              "3      2004-03-10 21:00:00\n",
              "4      2004-03-10 22:00:00\n",
              "               ...        \n",
              "9352   2005-04-04 10:00:00\n",
              "9353   2005-04-04 11:00:00\n",
              "9354   2005-04-04 12:00:00\n",
              "9355   2005-04-04 13:00:00\n",
              "9356   2005-04-04 14:00:00\n",
              "Length: 9357, dtype: datetime64[ns]"
            ]
          },
          "metadata": {
            "tags": []
          },
          "execution_count": 11
        }
      ]
    },
    {
      "cell_type": "code",
      "metadata": {
        "id": "ZV33SGfexbsj",
        "colab": {
          "base_uri": "https://localhost:8080/"
        },
        "outputId": "9e8069f9-150e-455d-fc4a-c103ff431280"
      },
      "source": [
        "#  Get the first 'datetime' value from the 'df_series' and store it in the 'timestamp_0' variable. Print its value.\n",
        "timestamp_0 = dt_series[0]\n",
        "timestamp_0"
      ],
      "execution_count": null,
      "outputs": [
        {
          "output_type": "execute_result",
          "data": {
            "text/plain": [
              "Timestamp('2004-03-10 18:00:00')"
            ]
          },
          "metadata": {
            "tags": []
          },
          "execution_count": 12
        }
      ]
    },
    {
      "cell_type": "code",
      "metadata": {
        "id": "miwSrYSnxYvV",
        "colab": {
          "base_uri": "https://localhost:8080/"
        },
        "outputId": "f8dee73a-620e-4c7d-92c2-7be8cadfc009"
      },
      "source": [
        "#  Get date from the timestamp stored in the 'timestamp_0' variable. Store the output in the 'date_0' variable.\n",
        "# Print the value and its data-type.\n",
        "date_0 = timestamp_0.date()\n",
        "print(f\"Date = {date_0} \\nData-Type = {type(date_0)}\")"
      ],
      "execution_count": null,
      "outputs": [
        {
          "output_type": "stream",
          "text": [
            "Date = 2004-03-10 \n",
            "Data-Type = <class 'datetime.date'>\n"
          ],
          "name": "stdout"
        }
      ]
    },
    {
      "cell_type": "code",
      "metadata": {
        "id": "6LWhDQ9GxRW_",
        "colab": {
          "base_uri": "https://localhost:8080/"
        },
        "outputId": "2db9a4ec-8293-417a-8f0a-c2b067ce4b23"
      },
      "source": [
        "#  Get the day, month and year attributes from the date stored in the 'date_0' variable. Print the attributes and their data-types.\n",
        "day = date_0.day\n",
        "month = date_0.month\n",
        "year = date_0.year\n",
        "print(f\"Day = {day}, Data-Type = {type(day)} \\nMonth = {month}, Data-Type = {type(month)} \\nYear = {year}, Data-Type = {type(year)}\")"
      ],
      "execution_count": null,
      "outputs": [
        {
          "output_type": "stream",
          "text": [
            "Day = 10, Data-Type = <class 'int'> \n",
            "Month = 3, Data-Type = <class 'int'> \n",
            "Year = 2004, Data-Type = <class 'int'>\n"
          ],
          "name": "stdout"
        }
      ]
    },
    {
      "cell_type": "code",
      "metadata": {
        "id": "99VwnoMExOVx",
        "colab": {
          "base_uri": "https://localhost:8080/"
        },
        "outputId": "deea5acd-e0e2-4230-9d23-534ac14f61ad"
      },
      "source": [
        "#  Format the date stored in the 'date_0' variable in the '10-Mar-2004' format. Print newly formatted date and also its data-type.\n",
        "str_date_0 = date_0.strftime('%d-%b-%Y') #\n",
        "print(f\"Date = {str_date_0} \\nData-Type = {type(str_date_0)}\")"
      ],
      "execution_count": null,
      "outputs": [
        {
          "output_type": "stream",
          "text": [
            "Date = 10-Mar-2004 \n",
            "Data-Type = <class 'str'>\n"
          ],
          "name": "stdout"
        }
      ]
    },
    {
      "cell_type": "code",
      "metadata": {
        "id": "mbvmMDuhxK4u",
        "colab": {
          "base_uri": "https://localhost:8080/"
        },
        "outputId": "3b9acfc6-6564-4d69-e0e7-bf0789fd4a13"
      },
      "source": [
        "# Format the date stored in the 'date_0' variable in the 'March 10, 2004' format. Print newly formatted date and also its data-type.\n",
        "str_date_0 = date_0.strftime('%B %d, %Y')\n",
        "print(f\"Date = {str_date_0} \\nData-Type = {type(str_date_0)}\")"
      ],
      "execution_count": null,
      "outputs": [
        {
          "output_type": "stream",
          "text": [
            "Date = March 10, 2004 \n",
            "Data-Type = <class 'str'>\n"
          ],
          "name": "stdout"
        }
      ]
    },
    {
      "cell_type": "code",
      "metadata": {
        "id": "rNDLHzVaxDs6",
        "colab": {
          "base_uri": "https://localhost:8080/"
        },
        "outputId": "b51779e0-f382-4f9e-ef2b-9187efc70b0b"
      },
      "source": [
        "#  Get the time from the timestamp stored in the 'timestamp_0' variable. Store the output in the 'time_0' variable.\n",
        "time_0 = timestamp_0.time()\n",
        "print(f\"Time = {time_0} \\nData-Type = {type(time_0)}\")"
      ],
      "execution_count": null,
      "outputs": [
        {
          "output_type": "stream",
          "text": [
            "Time = 18:00:00 \n",
            "Data-Type = <class 'datetime.time'>\n"
          ],
          "name": "stdout"
        }
      ]
    },
    {
      "cell_type": "code",
      "metadata": {
        "id": "G7VXtHvHw_3z",
        "colab": {
          "base_uri": "https://localhost:8080/"
        },
        "outputId": "557b6ae4-ca71-48bb-e89d-99af6bfdd8c8"
      },
      "source": [
        "# Get the hour, minute and second attributes from the time stored in the 'time_0' variable. Print the attributes and their data-types.\n",
        "hour = time_0.hour\n",
        "minute = time_0.minute\n",
        "second = time_0.second\n",
        "print(f\"Hour = {hour}, Data-Type = {type(hour)} \\nMinute = {minute}, Data-Type = {type(minute)} \\nSecond = {second}, Data-Type = {type(second)}\")"
      ],
      "execution_count": null,
      "outputs": [
        {
          "output_type": "stream",
          "text": [
            "Hour = 18, Data-Type = <class 'int'> \n",
            "Minute = 0, Data-Type = <class 'int'> \n",
            "Second = 0, Data-Type = <class 'int'>\n"
          ],
          "name": "stdout"
        }
      ]
    }
  ]
}
