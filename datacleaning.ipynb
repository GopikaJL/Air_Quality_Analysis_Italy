{
  "nbformat": 4,
  "nbformat_minor": 0,
  "metadata": {
    "colab": {
      "provenance": []
    },
    "kernelspec": {
      "name": "python3",
      "display_name": "Python 3"
    }
  },
  "cells": [
    {
      "cell_type": "code",
      "metadata": {
        "id": "hIJc20qpbeJe",
        "colab": {
          "base_uri": "https://localhost:8080/",
          "height": 317
        },
        "outputId": "4379a4fd-8c12-4620-f301-5e14ccdc3185"
      },
      "source": [
        "#  Get the descriptive statistics for all the numeric data-type columns.\n",
        "df.describe()"
      ],
      "execution_count": null,
      "outputs": [
        {
          "output_type": "execute_result",
          "data": {
            "text/html": [
              "<div>\n",
              "<style scoped>\n",
              "    .dataframe tbody tr th:only-of-type {\n",
              "        vertical-align: middle;\n",
              "    }\n",
              "\n",
              "    .dataframe tbody tr th {\n",
              "        vertical-align: top;\n",
              "    }\n",
              "\n",
              "    .dataframe thead th {\n",
              "        text-align: right;\n",
              "    }\n",
              "</style>\n",
              "<table border=\"1\" class=\"dataframe\">\n",
              "  <thead>\n",
              "    <tr style=\"text-align: right;\">\n",
              "      <th></th>\n",
              "      <th>CO(GT)</th>\n",
              "      <th>PT08.S1(CO)</th>\n",
              "      <th>NMHC(GT)</th>\n",
              "      <th>C6H6(GT)</th>\n",
              "      <th>PT08.S2(NMHC)</th>\n",
              "      <th>NOx(GT)</th>\n",
              "      <th>PT08.S3(NOx)</th>\n",
              "      <th>NO2(GT)</th>\n",
              "      <th>PT08.S4(NO2)</th>\n",
              "      <th>PT08.S5(O3)</th>\n",
              "      <th>T</th>\n",
              "      <th>RH</th>\n",
              "      <th>AH</th>\n",
              "      <th>Year</th>\n",
              "      <th>Month</th>\n",
              "      <th>Day</th>\n",
              "    </tr>\n",
              "  </thead>\n",
              "  <tbody>\n",
              "    <tr>\n",
              "      <th>count</th>\n",
              "      <td>9357.000000</td>\n",
              "      <td>9357.000000</td>\n",
              "      <td>9357.000000</td>\n",
              "      <td>9357.000000</td>\n",
              "      <td>9357.000000</td>\n",
              "      <td>9357.000000</td>\n",
              "      <td>9357.000000</td>\n",
              "      <td>9357.000000</td>\n",
              "      <td>9357.000000</td>\n",
              "      <td>9357.000000</td>\n",
              "      <td>9357.000000</td>\n",
              "      <td>9357.000000</td>\n",
              "      <td>9357.000000</td>\n",
              "      <td>9357.000000</td>\n",
              "      <td>9357.000000</td>\n",
              "      <td>9357.000000</td>\n",
              "    </tr>\n",
              "    <tr>\n",
              "      <th>mean</th>\n",
              "      <td>-34.207524</td>\n",
              "      <td>1048.990061</td>\n",
              "      <td>-159.090093</td>\n",
              "      <td>1.865683</td>\n",
              "      <td>894.595276</td>\n",
              "      <td>168.616971</td>\n",
              "      <td>794.990168</td>\n",
              "      <td>58.148873</td>\n",
              "      <td>1391.479641</td>\n",
              "      <td>975.072032</td>\n",
              "      <td>9.778305</td>\n",
              "      <td>39.485380</td>\n",
              "      <td>-6.837604</td>\n",
              "      <td>2004.240141</td>\n",
              "      <td>6.310356</td>\n",
              "      <td>15.876884</td>\n",
              "    </tr>\n",
              "    <tr>\n",
              "      <th>std</th>\n",
              "      <td>77.657170</td>\n",
              "      <td>329.832710</td>\n",
              "      <td>139.789093</td>\n",
              "      <td>41.380206</td>\n",
              "      <td>342.333252</td>\n",
              "      <td>257.433866</td>\n",
              "      <td>321.993552</td>\n",
              "      <td>126.940455</td>\n",
              "      <td>467.210125</td>\n",
              "      <td>456.938184</td>\n",
              "      <td>43.203623</td>\n",
              "      <td>51.216145</td>\n",
              "      <td>38.976670</td>\n",
              "      <td>0.427192</td>\n",
              "      <td>3.438160</td>\n",
              "      <td>8.808653</td>\n",
              "    </tr>\n",
              "    <tr>\n",
              "      <th>min</th>\n",
              "      <td>-200.000000</td>\n",
              "      <td>-200.000000</td>\n",
              "      <td>-200.000000</td>\n",
              "      <td>-200.000000</td>\n",
              "      <td>-200.000000</td>\n",
              "      <td>-200.000000</td>\n",
              "      <td>-200.000000</td>\n",
              "      <td>-200.000000</td>\n",
              "      <td>-200.000000</td>\n",
              "      <td>-200.000000</td>\n",
              "      <td>-200.000000</td>\n",
              "      <td>-200.000000</td>\n",
              "      <td>-200.000000</td>\n",
              "      <td>2004.000000</td>\n",
              "      <td>1.000000</td>\n",
              "      <td>1.000000</td>\n",
              "    </tr>\n",
              "    <tr>\n",
              "      <th>25%</th>\n",
              "      <td>0.600000</td>\n",
              "      <td>921.000000</td>\n",
              "      <td>-200.000000</td>\n",
              "      <td>4.000000</td>\n",
              "      <td>711.000000</td>\n",
              "      <td>50.000000</td>\n",
              "      <td>637.000000</td>\n",
              "      <td>53.000000</td>\n",
              "      <td>1185.000000</td>\n",
              "      <td>700.000000</td>\n",
              "      <td>10.900000</td>\n",
              "      <td>34.100000</td>\n",
              "      <td>0.692300</td>\n",
              "      <td>2004.000000</td>\n",
              "      <td>3.000000</td>\n",
              "      <td>8.000000</td>\n",
              "    </tr>\n",
              "    <tr>\n",
              "      <th>50%</th>\n",
              "      <td>1.500000</td>\n",
              "      <td>1053.000000</td>\n",
              "      <td>-200.000000</td>\n",
              "      <td>7.900000</td>\n",
              "      <td>895.000000</td>\n",
              "      <td>141.000000</td>\n",
              "      <td>794.000000</td>\n",
              "      <td>96.000000</td>\n",
              "      <td>1446.000000</td>\n",
              "      <td>942.000000</td>\n",
              "      <td>17.200000</td>\n",
              "      <td>48.600000</td>\n",
              "      <td>0.976800</td>\n",
              "      <td>2004.000000</td>\n",
              "      <td>6.000000</td>\n",
              "      <td>16.000000</td>\n",
              "    </tr>\n",
              "    <tr>\n",
              "      <th>75%</th>\n",
              "      <td>2.600000</td>\n",
              "      <td>1221.000000</td>\n",
              "      <td>-200.000000</td>\n",
              "      <td>13.600000</td>\n",
              "      <td>1105.000000</td>\n",
              "      <td>284.000000</td>\n",
              "      <td>960.000000</td>\n",
              "      <td>133.000000</td>\n",
              "      <td>1662.000000</td>\n",
              "      <td>1255.000000</td>\n",
              "      <td>24.100000</td>\n",
              "      <td>61.900000</td>\n",
              "      <td>1.296200</td>\n",
              "      <td>2004.000000</td>\n",
              "      <td>9.000000</td>\n",
              "      <td>23.000000</td>\n",
              "    </tr>\n",
              "    <tr>\n",
              "      <th>max</th>\n",
              "      <td>11.900000</td>\n",
              "      <td>2040.000000</td>\n",
              "      <td>1189.000000</td>\n",
              "      <td>63.700000</td>\n",
              "      <td>2214.000000</td>\n",
              "      <td>1479.000000</td>\n",
              "      <td>2683.000000</td>\n",
              "      <td>340.000000</td>\n",
              "      <td>2775.000000</td>\n",
              "      <td>2523.000000</td>\n",
              "      <td>44.600000</td>\n",
              "      <td>88.700000</td>\n",
              "      <td>2.231000</td>\n",
              "      <td>2005.000000</td>\n",
              "      <td>12.000000</td>\n",
              "      <td>31.000000</td>\n",
              "    </tr>\n",
              "  </tbody>\n",
              "</table>\n",
              "</div>"
            ],
            "text/plain": [
              "            CO(GT)  PT08.S1(CO)  ...        Month          Day\n",
              "count  9357.000000  9357.000000  ...  9357.000000  9357.000000\n",
              "mean    -34.207524  1048.990061  ...     6.310356    15.876884\n",
              "std      77.657170   329.832710  ...     3.438160     8.808653\n",
              "min    -200.000000  -200.000000  ...     1.000000     1.000000\n",
              "25%       0.600000   921.000000  ...     3.000000     8.000000\n",
              "50%       1.500000  1053.000000  ...     6.000000    16.000000\n",
              "75%       2.600000  1221.000000  ...     9.000000    23.000000\n",
              "max      11.900000  2040.000000  ...    12.000000    31.000000\n",
              "\n",
              "[8 rows x 16 columns]"
            ]
          },
          "metadata": {},
          "execution_count": 9
        }
      ]
    },
    {
      "cell_type": "code",
      "metadata": {
        "id": "Qp7TOb6nbhy_",
        "colab": {
          "base_uri": "https://localhost:8080/"
        },
        "outputId": "33ed366a-6584-430b-f464-147689e93ef1"
      },
      "source": [
        "#  How many rows contain -200 in each column except for the 'DateTime', 'Year', 'Month' and 'Day' columns?\n",
        "neg_counts = [(col, df[df[col] == -200].shape[0]) for col in df.columns[1:-4]]\n",
        "neg_counts"
      ],
      "execution_count": null,
      "outputs": [
        {
          "output_type": "execute_result",
          "data": {
            "text/plain": [
              "[('CO(GT)', 1683),\n",
              " ('PT08.S1(CO)', 366),\n",
              " ('NMHC(GT)', 8443),\n",
              " ('C6H6(GT)', 366),\n",
              " ('PT08.S2(NMHC)', 366),\n",
              " ('NOx(GT)', 1639),\n",
              " ('PT08.S3(NOx)', 366),\n",
              " ('NO2(GT)', 1642),\n",
              " ('PT08.S4(NO2)', 366),\n",
              " ('PT08.S5(O3)', 366),\n",
              " ('T', 366),\n",
              " ('RH', 366),\n",
              " ('AH', 366)]"
            ]
          },
          "metadata": {},
          "execution_count": 10
        }
      ]
    },
    {
      "cell_type": "code",
      "metadata": {
        "id": "F7Me37cnbkEe",
        "colab": {
          "base_uri": "https://localhost:8080/"
        },
        "outputId": "a4b28437-53ba-44f7-e6d2-1f8df75f659e"
      },
      "source": [
        "# Find out the percentage of rows containing -200 in each column except for the 'DateTime', 'Year', 'Month' and 'Day' columns.\n",
        "neg_percent = [(col, round(df[df[col] == -200].shape[0] * 100 / df.shape[0], 2)) for col in df.columns[1:-4]]\n",
        "neg_percent"
      ],
      "execution_count": null,
      "outputs": [
        {
          "output_type": "execute_result",
          "data": {
            "text/plain": [
              "[('CO(GT)', 17.99),\n",
              " ('PT08.S1(CO)', 3.91),\n",
              " ('NMHC(GT)', 90.23),\n",
              " ('C6H6(GT)', 3.91),\n",
              " ('PT08.S2(NMHC)', 3.91),\n",
              " ('NOx(GT)', 17.52),\n",
              " ('PT08.S3(NOx)', 3.91),\n",
              " ('NO2(GT)', 17.55),\n",
              " ('PT08.S4(NO2)', 3.91),\n",
              " ('PT08.S5(O3)', 3.91),\n",
              " ('T', 3.91),\n",
              " ('RH', 3.91),\n",
              " ('AH', 3.91)]"
            ]
          },
          "metadata": {},
          "execution_count": 11
        }
      ]
    },
    {
      "cell_type": "code",
      "metadata": {
        "id": "zJUftyBSbl5e",
        "colab": {
          "base_uri": "https://localhost:8080/"
        },
        "outputId": "b851433d-ebf9-4cd0-efba-3ad5c281bd81"
      },
      "source": [
        "#  Remove all the columns from the 'df' DataFrame containing more than 10% garbage value.\n",
        "df = df.drop(columns=['NMHC(GT)', 'CO(GT)', 'NOx(GT)', 'NO2(GT)'], axis=1)\n",
        "df.columns"
      ],
      "execution_count": null,
      "outputs": [
        {
          "output_type": "execute_result",
          "data": {
            "text/plain": [
              "Index(['DateTime', 'PT08.S1(CO)', 'C6H6(GT)', 'PT08.S2(NMHC)', 'PT08.S3(NOx)',\n",
              "       'PT08.S4(NO2)', 'PT08.S5(O3)', 'T', 'RH', 'AH', 'Year', 'Month', 'Day',\n",
              "       'Day Name'],\n",
              "      dtype='object')"
            ]
          },
          "metadata": {},
          "execution_count": 12
        }
      ]
    },
    {
      "cell_type": "code",
      "metadata": {
        "id": "8fk4W9Yvbobs",
        "colab": {
          "base_uri": "https://localhost:8080/"
        },
        "outputId": "e9856eaf-36d9-4957-deca-cf09ced8710a"
      },
      "source": [
        "#  Again, calculate the percentage of rows containing '-200' in each column except for the 'DateTime', 'Year', 'Month' and 'Day' columns.\n",
        "neg_percent = [(col, round(df[df[col] == -200].shape[0] * 100 / df.shape[0], 2)) for col in df.columns[1:-4]]\n",
        "neg_percent"
      ],
      "execution_count": null,
      "outputs": [
        {
          "output_type": "execute_result",
          "data": {
            "text/plain": [
              "[('PT08.S1(CO)', 3.91),\n",
              " ('C6H6(GT)', 3.91),\n",
              " ('PT08.S2(NMHC)', 3.91),\n",
              " ('PT08.S3(NOx)', 3.91),\n",
              " ('PT08.S4(NO2)', 3.91),\n",
              " ('PT08.S5(O3)', 3.91),\n",
              " ('T', 3.91),\n",
              " ('RH', 3.91),\n",
              " ('AH', 3.91)]"
            ]
          },
          "metadata": {},
          "execution_count": 13
        }
      ]
    },
    {
      "cell_type": "code",
      "metadata": {
        "id": "9YAwYfI9buN-",
        "colab": {
          "base_uri": "https://localhost:8080/",
          "height": 297
        },
        "outputId": "5ca6500e-7d08-4120-8ed0-b9efd87a137c"
      },
      "source": [
        "#  Calculate the median values for the columns having indices between 1 and -4 (excluding -4) for the year 2004.\n",
        "df.loc[df['Year'] == 2004, df.columns[1:-4]].describe()"
      ],
      "execution_count": null,
      "outputs": [
        {
          "output_type": "execute_result",
          "data": {
            "text/html": [
              "<div>\n",
              "<style scoped>\n",
              "    .dataframe tbody tr th:only-of-type {\n",
              "        vertical-align: middle;\n",
              "    }\n",
              "\n",
              "    .dataframe tbody tr th {\n",
              "        vertical-align: top;\n",
              "    }\n",
              "\n",
              "    .dataframe thead th {\n",
              "        text-align: right;\n",
              "    }\n",
              "</style>\n",
              "<table border=\"1\" class=\"dataframe\">\n",
              "  <thead>\n",
              "    <tr style=\"text-align: right;\">\n",
              "      <th></th>\n",
              "      <th>PT08.S1(CO)</th>\n",
              "      <th>C6H6(GT)</th>\n",
              "      <th>PT08.S2(NMHC)</th>\n",
              "      <th>PT08.S3(NOx)</th>\n",
              "      <th>PT08.S4(NO2)</th>\n",
              "      <th>PT08.S5(O3)</th>\n",
              "      <th>T</th>\n",
              "      <th>RH</th>\n",
              "      <th>AH</th>\n",
              "    </tr>\n",
              "  </thead>\n",
              "  <tbody>\n",
              "    <tr>\n",
              "      <th>count</th>\n",
              "      <td>7110.000000</td>\n",
              "      <td>7110.000000</td>\n",
              "      <td>7110.00000</td>\n",
              "      <td>7110.000000</td>\n",
              "      <td>7110.000000</td>\n",
              "      <td>7110.000000</td>\n",
              "      <td>7110.000000</td>\n",
              "      <td>7110.000000</td>\n",
              "      <td>7110.000000</td>\n",
              "    </tr>\n",
              "    <tr>\n",
              "      <th>mean</th>\n",
              "      <td>1055.135443</td>\n",
              "      <td>3.876779</td>\n",
              "      <td>923.60661</td>\n",
              "      <td>822.454571</td>\n",
              "      <td>1495.659353</td>\n",
              "      <td>973.985513</td>\n",
              "      <td>13.779001</td>\n",
              "      <td>40.292053</td>\n",
              "      <td>-5.310343</td>\n",
              "    </tr>\n",
              "    <tr>\n",
              "      <th>std</th>\n",
              "      <td>314.719517</td>\n",
              "      <td>37.859514</td>\n",
              "      <td>332.55071</td>\n",
              "      <td>315.705690</td>\n",
              "      <td>433.109562</td>\n",
              "      <td>434.094624</td>\n",
              "      <td>39.705743</td>\n",
              "      <td>46.983126</td>\n",
              "      <td>35.441047</td>\n",
              "    </tr>\n",
              "    <tr>\n",
              "      <th>min</th>\n",
              "      <td>-200.000000</td>\n",
              "      <td>-200.000000</td>\n",
              "      <td>-200.00000</td>\n",
              "      <td>-200.000000</td>\n",
              "      <td>-200.000000</td>\n",
              "      <td>-200.000000</td>\n",
              "      <td>-200.000000</td>\n",
              "      <td>-200.000000</td>\n",
              "      <td>-200.000000</td>\n",
              "    </tr>\n",
              "    <tr>\n",
              "      <th>25%</th>\n",
              "      <td>919.000000</td>\n",
              "      <td>4.600000</td>\n",
              "      <td>741.00000</td>\n",
              "      <td>666.000000</td>\n",
              "      <td>1331.250000</td>\n",
              "      <td>712.000000</td>\n",
              "      <td>14.300000</td>\n",
              "      <td>33.000000</td>\n",
              "      <td>0.855925</td>\n",
              "    </tr>\n",
              "    <tr>\n",
              "      <th>50%</th>\n",
              "      <td>1052.000000</td>\n",
              "      <td>8.600000</td>\n",
              "      <td>923.00000</td>\n",
              "      <td>815.000000</td>\n",
              "      <td>1528.000000</td>\n",
              "      <td>933.000000</td>\n",
              "      <td>20.150000</td>\n",
              "      <td>47.700000</td>\n",
              "      <td>1.083550</td>\n",
              "    </tr>\n",
              "    <tr>\n",
              "      <th>75%</th>\n",
              "      <td>1221.000000</td>\n",
              "      <td>14.200000</td>\n",
              "      <td>1124.00000</td>\n",
              "      <td>982.000000</td>\n",
              "      <td>1726.000000</td>\n",
              "      <td>1233.750000</td>\n",
              "      <td>25.800000</td>\n",
              "      <td>61.000000</td>\n",
              "      <td>1.404175</td>\n",
              "    </tr>\n",
              "    <tr>\n",
              "      <th>max</th>\n",
              "      <td>2040.000000</td>\n",
              "      <td>63.700000</td>\n",
              "      <td>2214.00000</td>\n",
              "      <td>2683.000000</td>\n",
              "      <td>2775.000000</td>\n",
              "      <td>2523.000000</td>\n",
              "      <td>44.600000</td>\n",
              "      <td>88.700000</td>\n",
              "      <td>2.231000</td>\n",
              "    </tr>\n",
              "  </tbody>\n",
              "</table>\n",
              "</div>"
            ],
            "text/plain": [
              "       PT08.S1(CO)     C6H6(GT)  ...           RH           AH\n",
              "count  7110.000000  7110.000000  ...  7110.000000  7110.000000\n",
              "mean   1055.135443     3.876779  ...    40.292053    -5.310343\n",
              "std     314.719517    37.859514  ...    46.983126    35.441047\n",
              "min    -200.000000  -200.000000  ...  -200.000000  -200.000000\n",
              "25%     919.000000     4.600000  ...    33.000000     0.855925\n",
              "50%    1052.000000     8.600000  ...    47.700000     1.083550\n",
              "75%    1221.000000    14.200000  ...    61.000000     1.404175\n",
              "max    2040.000000    63.700000  ...    88.700000     2.231000\n",
              "\n",
              "[8 rows x 9 columns]"
            ]
          },
          "metadata": {},
          "execution_count": 14
        }
      ]
    },
    {
      "cell_type": "code",
      "metadata": {
        "id": "oTxCmCsjbwGj",
        "colab": {
          "base_uri": "https://localhost:8080/",
          "height": 297
        },
        "outputId": "b055700e-522b-4bbb-c466-d407d3c2f315"
      },
      "source": [
        "# Calculate the median values for the columns having indices between 1 and -4 (excluding -4) for the year 2005.\n",
        "df.loc[df['Year'] == 2005, df.columns[1:-4]].describe()"
      ],
      "execution_count": null,
      "outputs": [
        {
          "output_type": "execute_result",
          "data": {
            "text/html": [
              "<div>\n",
              "<style scoped>\n",
              "    .dataframe tbody tr th:only-of-type {\n",
              "        vertical-align: middle;\n",
              "    }\n",
              "\n",
              "    .dataframe tbody tr th {\n",
              "        vertical-align: top;\n",
              "    }\n",
              "\n",
              "    .dataframe thead th {\n",
              "        text-align: right;\n",
              "    }\n",
              "</style>\n",
              "<table border=\"1\" class=\"dataframe\">\n",
              "  <thead>\n",
              "    <tr style=\"text-align: right;\">\n",
              "      <th></th>\n",
              "      <th>PT08.S1(CO)</th>\n",
              "      <th>C6H6(GT)</th>\n",
              "      <th>PT08.S2(NMHC)</th>\n",
              "      <th>PT08.S3(NOx)</th>\n",
              "      <th>PT08.S4(NO2)</th>\n",
              "      <th>PT08.S5(O3)</th>\n",
              "      <th>T</th>\n",
              "      <th>RH</th>\n",
              "      <th>AH</th>\n",
              "    </tr>\n",
              "  </thead>\n",
              "  <tbody>\n",
              "    <tr>\n",
              "      <th>count</th>\n",
              "      <td>2247.000000</td>\n",
              "      <td>2247.000000</td>\n",
              "      <td>2247.000000</td>\n",
              "      <td>2247.000000</td>\n",
              "      <td>2247.000000</td>\n",
              "      <td>2247.000000</td>\n",
              "      <td>2247.000000</td>\n",
              "      <td>2247.000000</td>\n",
              "      <td>2247.000000</td>\n",
              "    </tr>\n",
              "    <tr>\n",
              "      <th>mean</th>\n",
              "      <td>1029.544726</td>\n",
              "      <td>-4.497864</td>\n",
              "      <td>802.797063</td>\n",
              "      <td>708.086782</td>\n",
              "      <td>1061.832221</td>\n",
              "      <td>978.510013</td>\n",
              "      <td>-2.880774</td>\n",
              "      <td>36.932888</td>\n",
              "      <td>-11.670190</td>\n",
              "    </tr>\n",
              "    <tr>\n",
              "      <th>std</th>\n",
              "      <td>373.059005</td>\n",
              "      <td>50.426047</td>\n",
              "      <td>356.435107</td>\n",
              "      <td>326.303957</td>\n",
              "      <td>415.312391</td>\n",
              "      <td>522.776411</td>\n",
              "      <td>50.737736</td>\n",
              "      <td>62.700754</td>\n",
              "      <td>48.186199</td>\n",
              "    </tr>\n",
              "    <tr>\n",
              "      <th>min</th>\n",
              "      <td>-200.000000</td>\n",
              "      <td>-200.000000</td>\n",
              "      <td>-200.000000</td>\n",
              "      <td>-200.000000</td>\n",
              "      <td>-200.000000</td>\n",
              "      <td>-200.000000</td>\n",
              "      <td>-200.000000</td>\n",
              "      <td>-200.000000</td>\n",
              "      <td>-200.000000</td>\n",
              "    </tr>\n",
              "    <tr>\n",
              "      <th>25%</th>\n",
              "      <td>925.500000</td>\n",
              "      <td>2.900000</td>\n",
              "      <td>643.500000</td>\n",
              "      <td>553.500000</td>\n",
              "      <td>906.000000</td>\n",
              "      <td>641.000000</td>\n",
              "      <td>4.700000</td>\n",
              "      <td>37.200000</td>\n",
              "      <td>0.413350</td>\n",
              "    </tr>\n",
              "    <tr>\n",
              "      <th>50%</th>\n",
              "      <td>1055.000000</td>\n",
              "      <td>5.800000</td>\n",
              "      <td>805.000000</td>\n",
              "      <td>721.000000</td>\n",
              "      <td>1084.000000</td>\n",
              "      <td>973.000000</td>\n",
              "      <td>8.600000</td>\n",
              "      <td>50.900000</td>\n",
              "      <td>0.596400</td>\n",
              "    </tr>\n",
              "    <tr>\n",
              "      <th>75%</th>\n",
              "      <td>1222.000000</td>\n",
              "      <td>11.200000</td>\n",
              "      <td>1021.500000</td>\n",
              "      <td>893.500000</td>\n",
              "      <td>1297.000000</td>\n",
              "      <td>1344.500000</td>\n",
              "      <td>13.400000</td>\n",
              "      <td>64.750000</td>\n",
              "      <td>0.804950</td>\n",
              "    </tr>\n",
              "    <tr>\n",
              "      <th>max</th>\n",
              "      <td>1846.000000</td>\n",
              "      <td>43.000000</td>\n",
              "      <td>1831.000000</td>\n",
              "      <td>1881.000000</td>\n",
              "      <td>2147.000000</td>\n",
              "      <td>2494.000000</td>\n",
              "      <td>30.000000</td>\n",
              "      <td>86.600000</td>\n",
              "      <td>1.393000</td>\n",
              "    </tr>\n",
              "  </tbody>\n",
              "</table>\n",
              "</div>"
            ],
            "text/plain": [
              "       PT08.S1(CO)     C6H6(GT)  ...           RH           AH\n",
              "count  2247.000000  2247.000000  ...  2247.000000  2247.000000\n",
              "mean   1029.544726    -4.497864  ...    36.932888   -11.670190\n",
              "std     373.059005    50.426047  ...    62.700754    48.186199\n",
              "min    -200.000000  -200.000000  ...  -200.000000  -200.000000\n",
              "25%     925.500000     2.900000  ...    37.200000     0.413350\n",
              "50%    1055.000000     5.800000  ...    50.900000     0.596400\n",
              "75%    1222.000000    11.200000  ...    64.750000     0.804950\n",
              "max    1846.000000    43.000000  ...    86.600000     1.393000\n",
              "\n",
              "[8 rows x 9 columns]"
            ]
          },
          "metadata": {},
          "execution_count": 15
        }
      ]
    },
    {
      "cell_type": "code",
      "metadata": {
        "id": "1HCdKdb8bsZF",
        "colab": {
          "base_uri": "https://localhost:8080/"
        },
        "outputId": "19242b25-c65b-4cd0-9bb8-94e98395dee1"
      },
      "source": [
        "# S3.1: Count the number of rows containing '2004' and '2005' year values.\n",
        "df['Year'].value_counts()"
      ],
      "execution_count": null,
      "outputs": [
        {
          "output_type": "execute_result",
          "data": {
            "text/plain": [
              "2004    7110\n",
              "2005    2247\n",
              "Name: Year, dtype: int64"
            ]
          },
          "metadata": {},
          "execution_count": 16
        }
      ]
    },
    {
      "cell_type": "code",
      "metadata": {
        "id": "DX_N7oKjb19r",
        "colab": {
          "base_uri": "https://localhost:8080/",
          "height": 204
        },
        "outputId": "2ca80ccc-deb5-4315-de2d-63f94a702c60"
      },
      "source": [
        "# Create a new DataFrame containing records for the year 2004. Also, display the first five rows.\n",
        "aq_2004_df = df[df['Year'] == 2004]\n",
        "aq_2004_df.head()"
      ],
      "execution_count": null,
      "outputs": [
        {
          "output_type": "execute_result",
          "data": {
            "text/html": [
              "<div>\n",
              "<style scoped>\n",
              "    .dataframe tbody tr th:only-of-type {\n",
              "        vertical-align: middle;\n",
              "    }\n",
              "\n",
              "    .dataframe tbody tr th {\n",
              "        vertical-align: top;\n",
              "    }\n",
              "\n",
              "    .dataframe thead th {\n",
              "        text-align: right;\n",
              "    }\n",
              "</style>\n",
              "<table border=\"1\" class=\"dataframe\">\n",
              "  <thead>\n",
              "    <tr style=\"text-align: right;\">\n",
              "      <th></th>\n",
              "      <th>DateTime</th>\n",
              "      <th>PT08.S1(CO)</th>\n",
              "      <th>C6H6(GT)</th>\n",
              "      <th>PT08.S2(NMHC)</th>\n",
              "      <th>PT08.S3(NOx)</th>\n",
              "      <th>PT08.S4(NO2)</th>\n",
              "      <th>PT08.S5(O3)</th>\n",
              "      <th>T</th>\n",
              "      <th>RH</th>\n",
              "      <th>AH</th>\n",
              "      <th>Year</th>\n",
              "      <th>Month</th>\n",
              "      <th>Day</th>\n",
              "      <th>Day Name</th>\n",
              "    </tr>\n",
              "  </thead>\n",
              "  <tbody>\n",
              "    <tr>\n",
              "      <th>0</th>\n",
              "      <td>2004-03-10 18:00:00</td>\n",
              "      <td>1360.0</td>\n",
              "      <td>11.9</td>\n",
              "      <td>1046.0</td>\n",
              "      <td>1056.0</td>\n",
              "      <td>1692.0</td>\n",
              "      <td>1268.0</td>\n",
              "      <td>13.6</td>\n",
              "      <td>48.9</td>\n",
              "      <td>0.7578</td>\n",
              "      <td>2004</td>\n",
              "      <td>3</td>\n",
              "      <td>10</td>\n",
              "      <td>Wednesday</td>\n",
              "    </tr>\n",
              "    <tr>\n",
              "      <th>1</th>\n",
              "      <td>2004-03-10 19:00:00</td>\n",
              "      <td>1292.0</td>\n",
              "      <td>9.4</td>\n",
              "      <td>955.0</td>\n",
              "      <td>1174.0</td>\n",
              "      <td>1559.0</td>\n",
              "      <td>972.0</td>\n",
              "      <td>13.3</td>\n",
              "      <td>47.7</td>\n",
              "      <td>0.7255</td>\n",
              "      <td>2004</td>\n",
              "      <td>3</td>\n",
              "      <td>10</td>\n",
              "      <td>Wednesday</td>\n",
              "    </tr>\n",
              "    <tr>\n",
              "      <th>2</th>\n",
              "      <td>2004-03-10 20:00:00</td>\n",
              "      <td>1402.0</td>\n",
              "      <td>9.0</td>\n",
              "      <td>939.0</td>\n",
              "      <td>1140.0</td>\n",
              "      <td>1555.0</td>\n",
              "      <td>1074.0</td>\n",
              "      <td>11.9</td>\n",
              "      <td>54.0</td>\n",
              "      <td>0.7502</td>\n",
              "      <td>2004</td>\n",
              "      <td>3</td>\n",
              "      <td>10</td>\n",
              "      <td>Wednesday</td>\n",
              "    </tr>\n",
              "    <tr>\n",
              "      <th>3</th>\n",
              "      <td>2004-03-10 21:00:00</td>\n",
              "      <td>1376.0</td>\n",
              "      <td>9.2</td>\n",
              "      <td>948.0</td>\n",
              "      <td>1092.0</td>\n",
              "      <td>1584.0</td>\n",
              "      <td>1203.0</td>\n",
              "      <td>11.0</td>\n",
              "      <td>60.0</td>\n",
              "      <td>0.7867</td>\n",
              "      <td>2004</td>\n",
              "      <td>3</td>\n",
              "      <td>10</td>\n",
              "      <td>Wednesday</td>\n",
              "    </tr>\n",
              "    <tr>\n",
              "      <th>4</th>\n",
              "      <td>2004-03-10 22:00:00</td>\n",
              "      <td>1272.0</td>\n",
              "      <td>6.5</td>\n",
              "      <td>836.0</td>\n",
              "      <td>1205.0</td>\n",
              "      <td>1490.0</td>\n",
              "      <td>1110.0</td>\n",
              "      <td>11.2</td>\n",
              "      <td>59.6</td>\n",
              "      <td>0.7888</td>\n",
              "      <td>2004</td>\n",
              "      <td>3</td>\n",
              "      <td>10</td>\n",
              "      <td>Wednesday</td>\n",
              "    </tr>\n",
              "  </tbody>\n",
              "</table>\n",
              "</div>"
            ],
            "text/plain": [
              "             DateTime  PT08.S1(CO)  C6H6(GT)  ...  Month  Day   Day Name\n",
              "0 2004-03-10 18:00:00       1360.0      11.9  ...      3   10  Wednesday\n",
              "1 2004-03-10 19:00:00       1292.0       9.4  ...      3   10  Wednesday\n",
              "2 2004-03-10 20:00:00       1402.0       9.0  ...      3   10  Wednesday\n",
              "3 2004-03-10 21:00:00       1376.0       9.2  ...      3   10  Wednesday\n",
              "4 2004-03-10 22:00:00       1272.0       6.5  ...      3   10  Wednesday\n",
              "\n",
              "[5 rows x 14 columns]"
            ]
          },
          "metadata": {},
          "execution_count": 17
        }
      ]
    },
    {
      "cell_type": "code",
      "metadata": {
        "id": "OfIamjv9b4iq",
        "colab": {
          "base_uri": "https://localhost:8080/"
        },
        "outputId": "d1e914c4-1b1d-45f8-e9be-c2f5a5a7f64f"
      },
      "source": [
        "#  Calculate the number of rows and columns in the DataFrame for the 2004 year records.\n",
        "aq_2004_df.shape"
      ],
      "execution_count": null,
      "outputs": [
        {
          "output_type": "execute_result",
          "data": {
            "text/plain": [
              "(7110, 14)"
            ]
          },
          "metadata": {},
          "execution_count": 18
        }
      ]
    },
    {
      "cell_type": "code",
      "metadata": {
        "id": "OV-LTYaCb6eI",
        "colab": {
          "base_uri": "https://localhost:8080/",
          "height": 204
        },
        "outputId": "d986b694-e909-4275-b810-1ff19e2029ba"
      },
      "source": [
        "#  Create a new DataFrame containing records for the year 2005. Also, display the first five rows.\n",
        "aq_2005_df = df[df['Year'] == 2005]\n",
        "aq_2005_df.head()"
      ],
      "execution_count": null,
      "outputs": [
        {
          "output_type": "execute_result",
          "data": {
            "text/html": [
              "<div>\n",
              "<style scoped>\n",
              "    .dataframe tbody tr th:only-of-type {\n",
              "        vertical-align: middle;\n",
              "    }\n",
              "\n",
              "    .dataframe tbody tr th {\n",
              "        vertical-align: top;\n",
              "    }\n",
              "\n",
              "    .dataframe thead th {\n",
              "        text-align: right;\n",
              "    }\n",
              "</style>\n",
              "<table border=\"1\" class=\"dataframe\">\n",
              "  <thead>\n",
              "    <tr style=\"text-align: right;\">\n",
              "      <th></th>\n",
              "      <th>DateTime</th>\n",
              "      <th>PT08.S1(CO)</th>\n",
              "      <th>C6H6(GT)</th>\n",
              "      <th>PT08.S2(NMHC)</th>\n",
              "      <th>PT08.S3(NOx)</th>\n",
              "      <th>PT08.S4(NO2)</th>\n",
              "      <th>PT08.S5(O3)</th>\n",
              "      <th>T</th>\n",
              "      <th>RH</th>\n",
              "      <th>AH</th>\n",
              "      <th>Year</th>\n",
              "      <th>Month</th>\n",
              "      <th>Day</th>\n",
              "      <th>Day Name</th>\n",
              "    </tr>\n",
              "  </thead>\n",
              "  <tbody>\n",
              "    <tr>\n",
              "      <th>7110</th>\n",
              "      <td>2005-01-01 00:00:00</td>\n",
              "      <td>1046.0</td>\n",
              "      <td>4.2</td>\n",
              "      <td>724.0</td>\n",
              "      <td>848.0</td>\n",
              "      <td>898.0</td>\n",
              "      <td>1201.0</td>\n",
              "      <td>8.2</td>\n",
              "      <td>40.1</td>\n",
              "      <td>0.4375</td>\n",
              "      <td>2005</td>\n",
              "      <td>1</td>\n",
              "      <td>1</td>\n",
              "      <td>Saturday</td>\n",
              "    </tr>\n",
              "    <tr>\n",
              "      <th>7111</th>\n",
              "      <td>2005-01-01 01:00:00</td>\n",
              "      <td>1275.0</td>\n",
              "      <td>8.8</td>\n",
              "      <td>930.0</td>\n",
              "      <td>649.0</td>\n",
              "      <td>1024.0</td>\n",
              "      <td>1617.0</td>\n",
              "      <td>5.3</td>\n",
              "      <td>50.7</td>\n",
              "      <td>0.4564</td>\n",
              "      <td>2005</td>\n",
              "      <td>1</td>\n",
              "      <td>1</td>\n",
              "      <td>Saturday</td>\n",
              "    </tr>\n",
              "    <tr>\n",
              "      <th>7112</th>\n",
              "      <td>2005-01-01 02:00:00</td>\n",
              "      <td>1173.0</td>\n",
              "      <td>7.5</td>\n",
              "      <td>878.0</td>\n",
              "      <td>738.0</td>\n",
              "      <td>1002.0</td>\n",
              "      <td>1355.0</td>\n",
              "      <td>5.9</td>\n",
              "      <td>50.0</td>\n",
              "      <td>0.4689</td>\n",
              "      <td>2005</td>\n",
              "      <td>1</td>\n",
              "      <td>1</td>\n",
              "      <td>Saturday</td>\n",
              "    </tr>\n",
              "    <tr>\n",
              "      <th>7113</th>\n",
              "      <td>2005-01-01 03:00:00</td>\n",
              "      <td>1163.0</td>\n",
              "      <td>7.6</td>\n",
              "      <td>881.0</td>\n",
              "      <td>748.0</td>\n",
              "      <td>1001.0</td>\n",
              "      <td>1296.0</td>\n",
              "      <td>4.9</td>\n",
              "      <td>53.9</td>\n",
              "      <td>0.4693</td>\n",
              "      <td>2005</td>\n",
              "      <td>1</td>\n",
              "      <td>1</td>\n",
              "      <td>Saturday</td>\n",
              "    </tr>\n",
              "    <tr>\n",
              "      <th>7114</th>\n",
              "      <td>2005-01-01 04:00:00</td>\n",
              "      <td>1054.0</td>\n",
              "      <td>5.6</td>\n",
              "      <td>791.0</td>\n",
              "      <td>830.0</td>\n",
              "      <td>967.0</td>\n",
              "      <td>1131.0</td>\n",
              "      <td>4.3</td>\n",
              "      <td>55.3</td>\n",
              "      <td>0.4650</td>\n",
              "      <td>2005</td>\n",
              "      <td>1</td>\n",
              "      <td>1</td>\n",
              "      <td>Saturday</td>\n",
              "    </tr>\n",
              "  </tbody>\n",
              "</table>\n",
              "</div>"
            ],
            "text/plain": [
              "                DateTime  PT08.S1(CO)  C6H6(GT)  ...  Month  Day  Day Name\n",
              "7110 2005-01-01 00:00:00       1046.0       4.2  ...      1    1  Saturday\n",
              "7111 2005-01-01 01:00:00       1275.0       8.8  ...      1    1  Saturday\n",
              "7112 2005-01-01 02:00:00       1173.0       7.5  ...      1    1  Saturday\n",
              "7113 2005-01-01 03:00:00       1163.0       7.6  ...      1    1  Saturday\n",
              "7114 2005-01-01 04:00:00       1054.0       5.6  ...      1    1  Saturday\n",
              "\n",
              "[5 rows x 14 columns]"
            ]
          },
          "metadata": {},
          "execution_count": 19
        }
      ]
    },
    {
      "cell_type": "code",
      "metadata": {
        "id": "LGMt9A_hb-Ma",
        "colab": {
          "base_uri": "https://localhost:8080/"
        },
        "outputId": "41b6d494-88e3-44d8-bc37-704349a5e56a"
      },
      "source": [
        "# Calculate the number of rows and columns in the DataFrame for the 2004 year records.\n",
        "aq_2005_df.shape"
      ],
      "execution_count": null,
      "outputs": [
        {
          "output_type": "execute_result",
          "data": {
            "text/plain": [
              "(2247, 14)"
            ]
          },
          "metadata": {},
          "execution_count": 20
        }
      ]
    },
    {
      "cell_type": "code",
      "metadata": {
        "id": "z_L4Vk0LcCDm"
      },
      "source": [
        "#  Replace the -200 value with the median values for each column having indices between 1 and -4 (excluding -4) for the 2004 year DataFrame.\n",
        "import warnings\n",
        "warnings.filterwarnings('ignore')\n",
        "\n",
        "for col in aq_2004_df.columns[1:-4]:\n",
        "  median = aq_2004_df.loc[aq_2004_df[col] != -200, col].median() # Get the median value for each column after excluding -200.\n",
        "  aq_2004_df[col] = aq_2004_df[col].replace(to_replace=-200, value=median)"
      ],
      "execution_count": null,
      "outputs": []
    },
    {
      "cell_type": "code",
      "metadata": {
        "id": "c3-WHh7lcGNy"
      },
      "source": [
        "# Repeat the same exercise for the 2005 year DataFrame.\n",
        "for col in aq_2005_df.columns[1:-4]:\n",
        "  median = aq_2005_df.loc[aq_2005_df[col] != -200, col].median()\n",
        "  aq_2005_df[col] = aq_2005_df[col].replace(to_replace=-200, value=median)"
      ],
      "execution_count": null,
      "outputs": []
    },
    {
      "cell_type": "code",
      "metadata": {
        "id": "tbefMOs_cILq",
        "colab": {
          "base_uri": "https://localhost:8080/"
        },
        "outputId": "fab9c999-0f53-4636-abda-d20a07c5fde9"
      },
      "source": [
        "#  Compute the number of rows containing '-200' in each column having indices between 1 and -4 (excluding -4) in the 2004 year DataFrame.\n",
        "neg_val_2004 = [(col, aq_2004_df[aq_2004_df[col] == -200].shape[0]) for col in df.columns[1:-4]]\n",
        "neg_val_2004"
      ],
      "execution_count": null,
      "outputs": [
        {
          "output_type": "execute_result",
          "data": {
            "text/plain": [
              "[('PT08.S1(CO)', 0),\n",
              " ('C6H6(GT)', 0),\n",
              " ('PT08.S2(NMHC)', 0),\n",
              " ('PT08.S3(NOx)', 0),\n",
              " ('PT08.S4(NO2)', 0),\n",
              " ('PT08.S5(O3)', 0),\n",
              " ('T', 0),\n",
              " ('RH', 0),\n",
              " ('AH', 0)]"
            ]
          },
          "metadata": {},
          "execution_count": 23
        }
      ]
    },
    {
      "cell_type": "code",
      "metadata": {
        "id": "YkW93PNTcKtg",
        "colab": {
          "base_uri": "https://localhost:8080/"
        },
        "outputId": "f9f9833a-c4c7-48f4-d86d-a96b5c438476"
      },
      "source": [
        "#  Again, calculate the percentage of rows containing '-200' in each column having indices between 1 and -4 (excluding -4) in the 2005 year DataFrame.\n",
        "neg_val_2005 = [(col, round(aq_2005_df[aq_2005_df[col] == -200].shape[0] * 100 / aq_2005_df.shape[0], 2)) for col in aq_2005_df.columns[1:-4]]\n",
        "neg_val_2005"
      ],
      "execution_count": null,
      "outputs": [
        {
          "output_type": "execute_result",
          "data": {
            "text/plain": [
              "[('PT08.S1(CO)', 0.0),\n",
              " ('C6H6(GT)', 0.0),\n",
              " ('PT08.S2(NMHC)', 0.0),\n",
              " ('PT08.S3(NOx)', 0.0),\n",
              " ('PT08.S4(NO2)', 0.0),\n",
              " ('PT08.S5(O3)', 0.0),\n",
              " ('T', 0.0),\n",
              " ('RH', 0.0),\n",
              " ('AH', 0.0)]"
            ]
          },
          "metadata": {},
          "execution_count": 24
        }
      ]
    }
  ]
}
